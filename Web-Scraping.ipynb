{
 "cells": [
  {
   "cell_type": "code",
   "execution_count": 1,
   "id": "634d5a98",
   "metadata": {},
   "outputs": [],
   "source": [
    "import requests"
   ]
  },
  {
   "cell_type": "code",
   "execution_count": 3,
   "id": "3f390212",
   "metadata": {},
   "outputs": [],
   "source": [
    "result = requests.get(\"http://www.example.com\")"
   ]
  },
  {
   "cell_type": "code",
   "execution_count": 4,
   "id": "24cb51da",
   "metadata": {},
   "outputs": [
    {
     "data": {
      "text/plain": [
       "requests.models.Response"
      ]
     },
     "execution_count": 4,
     "metadata": {},
     "output_type": "execute_result"
    }
   ],
   "source": [
    "type(result)"
   ]
  },
  {
   "cell_type": "code",
   "execution_count": 5,
   "id": "98883d29",
   "metadata": {},
   "outputs": [
    {
     "data": {
      "text/plain": [
       "'<!doctype html>\\n<html>\\n<head>\\n    <title>Example Domain</title>\\n\\n    <meta charset=\"utf-8\" />\\n    <meta http-equiv=\"Content-type\" content=\"text/html; charset=utf-8\" />\\n    <meta name=\"viewport\" content=\"width=device-width, initial-scale=1\" />\\n    <style type=\"text/css\">\\n    body {\\n        background-color: #f0f0f2;\\n        margin: 0;\\n        padding: 0;\\n        font-family: -apple-system, system-ui, BlinkMacSystemFont, \"Segoe UI\", \"Open Sans\", \"Helvetica Neue\", Helvetica, Arial, sans-serif;\\n        \\n    }\\n    div {\\n        width: 600px;\\n        margin: 5em auto;\\n        padding: 2em;\\n        background-color: #fdfdff;\\n        border-radius: 0.5em;\\n        box-shadow: 2px 3px 7px 2px rgba(0,0,0,0.02);\\n    }\\n    a:link, a:visited {\\n        color: #38488f;\\n        text-decoration: none;\\n    }\\n    @media (max-width: 700px) {\\n        div {\\n            margin: 0 auto;\\n            width: auto;\\n        }\\n    }\\n    </style>    \\n</head>\\n\\n<body>\\n<div>\\n    <h1>Example Domain</h1>\\n    <p>This domain is for use in illustrative examples in documents. You may use this\\n    domain in literature without prior coordination or asking for permission.</p>\\n    <p><a href=\"https://www.iana.org/domains/example\">More information...</a></p>\\n</div>\\n</body>\\n</html>\\n'"
      ]
     },
     "execution_count": 5,
     "metadata": {},
     "output_type": "execute_result"
    }
   ],
   "source": [
    "result.text"
   ]
  },
  {
   "cell_type": "code",
   "execution_count": 6,
   "id": "310c0aac",
   "metadata": {},
   "outputs": [],
   "source": [
    "import bs4"
   ]
  },
  {
   "cell_type": "code",
   "execution_count": 7,
   "id": "58dc3487",
   "metadata": {},
   "outputs": [],
   "source": [
    "soup = bs4.BeautifulSoup(result.text,\"lxml\")"
   ]
  },
  {
   "cell_type": "code",
   "execution_count": 8,
   "id": "4083fdce",
   "metadata": {},
   "outputs": [
    {
     "data": {
      "text/plain": [
       "<!DOCTYPE html>\n",
       "<html>\n",
       "<head>\n",
       "<title>Example Domain</title>\n",
       "<meta charset=\"utf-8\"/>\n",
       "<meta content=\"text/html; charset=utf-8\" http-equiv=\"Content-type\"/>\n",
       "<meta content=\"width=device-width, initial-scale=1\" name=\"viewport\"/>\n",
       "<style type=\"text/css\">\n",
       "    body {\n",
       "        background-color: #f0f0f2;\n",
       "        margin: 0;\n",
       "        padding: 0;\n",
       "        font-family: -apple-system, system-ui, BlinkMacSystemFont, \"Segoe UI\", \"Open Sans\", \"Helvetica Neue\", Helvetica, Arial, sans-serif;\n",
       "        \n",
       "    }\n",
       "    div {\n",
       "        width: 600px;\n",
       "        margin: 5em auto;\n",
       "        padding: 2em;\n",
       "        background-color: #fdfdff;\n",
       "        border-radius: 0.5em;\n",
       "        box-shadow: 2px 3px 7px 2px rgba(0,0,0,0.02);\n",
       "    }\n",
       "    a:link, a:visited {\n",
       "        color: #38488f;\n",
       "        text-decoration: none;\n",
       "    }\n",
       "    @media (max-width: 700px) {\n",
       "        div {\n",
       "            margin: 0 auto;\n",
       "            width: auto;\n",
       "        }\n",
       "    }\n",
       "    </style>\n",
       "</head>\n",
       "<body>\n",
       "<div>\n",
       "<h1>Example Domain</h1>\n",
       "<p>This domain is for use in illustrative examples in documents. You may use this\n",
       "    domain in literature without prior coordination or asking for permission.</p>\n",
       "<p><a href=\"https://www.iana.org/domains/example\">More information...</a></p>\n",
       "</div>\n",
       "</body>\n",
       "</html>"
      ]
     },
     "execution_count": 8,
     "metadata": {},
     "output_type": "execute_result"
    }
   ],
   "source": [
    "soup"
   ]
  },
  {
   "cell_type": "code",
   "execution_count": 11,
   "id": "585b49a4",
   "metadata": {},
   "outputs": [
    {
     "data": {
      "text/plain": [
       "'Example Domain'"
      ]
     },
     "execution_count": 11,
     "metadata": {},
     "output_type": "execute_result"
    }
   ],
   "source": [
    "soup.select('title')[0].getText()"
   ]
  },
  {
   "cell_type": "code",
   "execution_count": 12,
   "id": "6f991b41",
   "metadata": {},
   "outputs": [],
   "source": [
    "site_paragraphs = soup.select(\"p\")"
   ]
  },
  {
   "cell_type": "code",
   "execution_count": 13,
   "id": "5f07a760",
   "metadata": {},
   "outputs": [
    {
     "data": {
      "text/plain": [
       "<p>This domain is for use in illustrative examples in documents. You may use this\n",
       "    domain in literature without prior coordination or asking for permission.</p>"
      ]
     },
     "execution_count": 13,
     "metadata": {},
     "output_type": "execute_result"
    }
   ],
   "source": [
    "site_paragraphs[0]"
   ]
  },
  {
   "cell_type": "code",
   "execution_count": 16,
   "id": "f423e2b8",
   "metadata": {},
   "outputs": [
    {
     "data": {
      "text/plain": [
       "bs4.element.Tag"
      ]
     },
     "execution_count": 16,
     "metadata": {},
     "output_type": "execute_result"
    }
   ],
   "source": [
    "type(site_paragraphs[0])"
   ]
  },
  {
   "cell_type": "code",
   "execution_count": 17,
   "id": "ab175303",
   "metadata": {},
   "outputs": [],
   "source": [
    "res = requests.get('https://en.wikipedia.org/wiki/Grace_Hopper')"
   ]
  },
  {
   "cell_type": "code",
   "execution_count": 18,
   "id": "9e688d79",
   "metadata": {},
   "outputs": [],
   "source": [
    "soup = bs4.BeautifulSoup(res.text,\"lxml\")"
   ]
  },
  {
   "cell_type": "code",
   "execution_count": 20,
   "id": "69f615bb",
   "metadata": {},
   "outputs": [],
   "source": [
    " # soup"
   ]
  },
  {
   "cell_type": "code",
   "execution_count": 32,
   "id": "a03d8bc3",
   "metadata": {},
   "outputs": [
    {
     "data": {
      "text/plain": [
       "[<div class=\"vector-toc-text\">(Top)</div>,\n",
       " <div class=\"vector-toc-text\">\n",
       " <span class=\"vector-toc-numb\">1</span>Early life and education</div>,\n",
       " <div class=\"vector-toc-text\">\n",
       " <span class=\"vector-toc-numb\">2</span>Career</div>,\n",
       " <div class=\"vector-toc-text\">\n",
       " <span class=\"vector-toc-numb\">2.1</span>World War II</div>,\n",
       " <div class=\"vector-toc-text\">\n",
       " <span class=\"vector-toc-numb\">2.2</span>UNIVAC</div>,\n",
       " <div class=\"vector-toc-text\">\n",
       " <span class=\"vector-toc-numb\">2.3</span>COBOL</div>,\n",
       " <div class=\"vector-toc-text\">\n",
       " <span class=\"vector-toc-numb\">2.4</span>Standards</div>,\n",
       " <div class=\"vector-toc-text\">\n",
       " <span class=\"vector-toc-numb\">3</span>Retirement</div>,\n",
       " <div class=\"vector-toc-text\">\n",
       " <span class=\"vector-toc-numb\">4</span>Post-retirement</div>,\n",
       " <div class=\"vector-toc-text\">\n",
       " <span class=\"vector-toc-numb\">5</span>Anecdotes</div>,\n",
       " <div class=\"vector-toc-text\">\n",
       " <span class=\"vector-toc-numb\">6</span>Death</div>,\n",
       " <div class=\"vector-toc-text\">\n",
       " <span class=\"vector-toc-numb\">7</span>Dates of rank</div>,\n",
       " <div class=\"vector-toc-text\">\n",
       " <span class=\"vector-toc-numb\">8</span>Awards and honors</div>,\n",
       " <div class=\"vector-toc-text\">\n",
       " <span class=\"vector-toc-numb\">8.1</span>Military awards</div>,\n",
       " <div class=\"vector-toc-text\">\n",
       " <span class=\"vector-toc-numb\">8.2</span>Other awards</div>,\n",
       " <div class=\"vector-toc-text\">\n",
       " <span class=\"vector-toc-numb\">9</span>Legacy</div>,\n",
       " <div class=\"vector-toc-text\">\n",
       " <span class=\"vector-toc-numb\">9.1</span>Places</div>,\n",
       " <div class=\"vector-toc-text\">\n",
       " <span class=\"vector-toc-numb\">9.2</span>Programs</div>,\n",
       " <div class=\"vector-toc-text\">\n",
       " <span class=\"vector-toc-numb\">9.3</span>In popular culture</div>,\n",
       " <div class=\"vector-toc-text\">\n",
       " <span class=\"vector-toc-numb\">9.3.1</span>Grace Hopper Celebration of Women in Computing</div>,\n",
       " <div class=\"vector-toc-text\">\n",
       " <span class=\"vector-toc-numb\">10</span>See also</div>,\n",
       " <div class=\"vector-toc-text\">\n",
       " <span class=\"vector-toc-numb\">11</span>Notes</div>,\n",
       " <div class=\"vector-toc-text\">\n",
       " <span class=\"vector-toc-numb\">12</span>References</div>,\n",
       " <div class=\"vector-toc-text\">\n",
       " <span class=\"vector-toc-numb\">13</span>Obituary notices</div>,\n",
       " <div class=\"vector-toc-text\">\n",
       " <span class=\"vector-toc-numb\">14</span>Further reading</div>,\n",
       " <div class=\"vector-toc-text\">\n",
       " <span class=\"vector-toc-numb\">15</span>External links</div>]"
      ]
     },
     "execution_count": 32,
     "metadata": {},
     "output_type": "execute_result"
    }
   ],
   "source": [
    "soup.select('.vector-toc-text')"
   ]
  },
  {
   "cell_type": "code",
   "execution_count": 47,
   "id": "148f3789",
   "metadata": {},
   "outputs": [],
   "source": [
    "item = soup.select('.vector-toc-text')[12]"
   ]
  },
  {
   "cell_type": "code",
   "execution_count": 48,
   "id": "a8b4c737",
   "metadata": {},
   "outputs": [
    {
     "data": {
      "text/plain": [
       "'\\n8Awards and honors'"
      ]
     },
     "execution_count": 48,
     "metadata": {},
     "output_type": "execute_result"
    }
   ],
   "source": [
    "item.text"
   ]
  },
  {
   "cell_type": "code",
   "execution_count": 49,
   "id": "ab7a0e60",
   "metadata": {},
   "outputs": [
    {
     "name": "stdout",
     "output_type": "stream",
     "text": [
      "(Top)\n",
      "\n",
      "1Early life and education\n",
      "\n",
      "2Career\n",
      "\n",
      "2.1World War II\n",
      "\n",
      "2.2UNIVAC\n",
      "\n",
      "2.3COBOL\n",
      "\n",
      "2.4Standards\n",
      "\n",
      "3Retirement\n",
      "\n",
      "4Post-retirement\n",
      "\n",
      "5Anecdotes\n",
      "\n",
      "6Death\n",
      "\n",
      "7Dates of rank\n",
      "\n",
      "8Awards and honors\n",
      "\n",
      "8.1Military awards\n",
      "\n",
      "8.2Other awards\n",
      "\n",
      "9Legacy\n",
      "\n",
      "9.1Places\n",
      "\n",
      "9.2Programs\n",
      "\n",
      "9.3In popular culture\n",
      "\n",
      "9.3.1Grace Hopper Celebration of Women in Computing\n",
      "\n",
      "10See also\n",
      "\n",
      "11Notes\n",
      "\n",
      "12References\n",
      "\n",
      "13Obituary notices\n",
      "\n",
      "14Further reading\n",
      "\n",
      "15External links\n"
     ]
    }
   ],
   "source": [
    "for item in soup.select('.vector-toc-text'):\n",
    "    print(item.text)"
   ]
  },
  {
   "cell_type": "code",
   "execution_count": null,
   "id": "9a9d94ab",
   "metadata": {},
   "outputs": [],
   "source": []
  }
 ],
 "metadata": {
  "kernelspec": {
   "display_name": "Python 3 (ipykernel)",
   "language": "python",
   "name": "python3"
  },
  "language_info": {
   "codemirror_mode": {
    "name": "ipython",
    "version": 3
   },
   "file_extension": ".py",
   "mimetype": "text/x-python",
   "name": "python",
   "nbconvert_exporter": "python",
   "pygments_lexer": "ipython3",
   "version": "3.10.9"
  }
 },
 "nbformat": 4,
 "nbformat_minor": 5
}
